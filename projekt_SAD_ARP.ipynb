{
 "cells": [
  {
   "cell_type": "markdown",
   "id": "7d52255b",
   "metadata": {},
   "source": [
    "## 1. Wprowadzenie\n",
    "*Na jaki zbiór danych patrzysz? Gdzie/jak został utworzony? Jakie pytania będą zadawane?*"
   ]
  },
  {
   "cell_type": "markdown",
   "id": "fdefdb67",
   "metadata": {},
   "source": [
    "# 2. Czyszczenie i porządkowanie danych\n",
    "*Diagnostyka danych; braki - wizualizacja, omówienie, wzorzec, błędy w danych i ich naprawa, imputacja braków, obserwacje odstające - analiza.*"
   ]
  },
  {
   "cell_type": "markdown",
   "id": "6ae5d8b4",
   "metadata": {},
   "source": [
    "# 3. Wizualizacje\n",
    "*4-5 wykresów przedstawiających określone wzorce lub cechy, które chcesz podkreślić. Każdej wizualizacji powinien towarzyszyć krótki (1-2 zdania) opis tego, co według Ciebie pokazuje.*"
   ]
  },
  {
   "cell_type": "markdown",
   "id": "0d3bfa64",
   "metadata": {},
   "source": [
    "# 4. Analiza opisowa\n",
    "*2-3 analizy opisowe, odnoszące się do pytania badawczego (pytań). Każdej analizie powinna towarzyszyć krótka (1-3 zdania) interpretacja.*"
   ]
  },
  {
   "cell_type": "markdown",
   "id": "27a86ba7",
   "metadata": {},
   "source": [
    "# 4. Wnioskowanie statystyczne\n",
    "*Odnoszące się do pytań badawczych testy statystyczne (w tabeli lub na wizualizacjach) odpowiednie do załozeń, danych.*"
   ]
  },
  {
   "cell_type": "markdown",
   "id": "9fab622b",
   "metadata": {},
   "source": [
    "# 5. Wnioski\n",
    "*Wyciągnięcie wniosków na temat zbioru danych i postawionych pytań.*"
   ]
  }
 ],
 "metadata": {
  "language_info": {
   "name": "python"
  }
 },
 "nbformat": 4,
 "nbformat_minor": 5
}
